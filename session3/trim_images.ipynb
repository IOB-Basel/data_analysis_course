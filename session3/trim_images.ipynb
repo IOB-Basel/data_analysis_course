{
 "cells": [
  {
   "cell_type": "code",
   "execution_count": 21,
   "id": "052974ca",
   "metadata": {},
   "outputs": [],
   "source": [
    "# import scanpy as sc\n",
    "# import numpy as np\n",
    "import os\n",
    "from skimage.io import imread_collection, imsave"
   ]
  },
  {
   "cell_type": "markdown",
   "id": "5c940674",
   "metadata": {},
   "source": [
    "# Load and trim images"
   ]
  },
  {
   "cell_type": "code",
   "execution_count": 14,
   "id": "c79bcf22",
   "metadata": {},
   "outputs": [],
   "source": [
    "# load png images from data/frames\n",
    "images_rgb = imread_collection(\"../data/frames/*.png\", conserve_memory=True)"
   ]
  },
  {
   "cell_type": "code",
   "execution_count": 15,
   "id": "491644df",
   "metadata": {},
   "outputs": [
    {
     "name": "stdout",
     "output_type": "stream",
     "text": [
      "Variable type: <class 'skimage.io.collection.ImageCollection'>\n",
      "Number of images: 523\n"
     ]
    }
   ],
   "source": [
    "print(\"Variable type:\", type(images_rgb))\n",
    "print(\"Number of images:\", len(images_rgb))"
   ]
  },
  {
   "cell_type": "code",
   "execution_count": 16,
   "id": "5ef8ab46",
   "metadata": {},
   "outputs": [
    {
     "name": "stdout",
     "output_type": "stream",
     "text": [
      "Number of images after subsetting frames: 189\n"
     ]
    }
   ],
   "source": [
    "# subset frames\n",
    "images_rgb = images_rgb[1:190]\n",
    "print(\"Number of images after subsetting frames:\", len(images_rgb))"
   ]
  },
  {
   "cell_type": "code",
   "execution_count": 19,
   "id": "b087375b",
   "metadata": {},
   "outputs": [
    {
     "name": "stdout",
     "output_type": "stream",
     "text": [
      "Size of each image: (720, 1280, 3)\n",
      "Size of each image after trimming border: (674, 1280, 3)\n",
      "Size of each image after trimming to region of interest: (200, 600, 3)\n"
     ]
    }
   ],
   "source": [
    "print(\"Size of each image:\", images_rgb[0].shape)\n",
    "\n",
    "# trim the black border from the top and bottom\n",
    "border_width = 23\n",
    "images_rgb = [im[border_width:-border_width, :, :] for im in images_rgb]\n",
    "\n",
    "print(\"Size of each image after trimming border:\", images_rgb[0].shape)\n",
    "\n",
    "# trim to region of interest\n",
    "images_rgb = [im[300:500, 400:1000] for im in images_rgb]\n",
    "\n",
    "print(\"Size of each image after trimming to region of interest:\", images_rgb[0].shape)"
   ]
  },
  {
   "cell_type": "markdown",
   "id": "e79da820",
   "metadata": {},
   "source": [
    "# Save trimmed images"
   ]
  },
  {
   "cell_type": "code",
   "execution_count": 24,
   "id": "7fdfe6ca",
   "metadata": {},
   "outputs": [],
   "source": [
    "# create the output directory if it doesn't already exist\n",
    "os.makedirs(\"../data/frames_trimmed\", exist_ok=True)\n",
    "\n",
    "# iterate through frames, saving each one\n",
    "for im_number, im in enumerate(images_rgb):\n",
    "    imsave(f\"../data/frames_trimmed/{im_number}.png\", im)"
   ]
  },
  {
   "cell_type": "code",
   "execution_count": null,
   "id": "ba90eb57",
   "metadata": {},
   "outputs": [],
   "source": []
  }
 ],
 "metadata": {
  "kernelspec": {
   "display_name": "session3_theory",
   "language": "python",
   "name": "python3"
  },
  "language_info": {
   "codemirror_mode": {
    "name": "ipython",
    "version": 3
   },
   "file_extension": ".py",
   "mimetype": "text/x-python",
   "name": "python",
   "nbconvert_exporter": "python",
   "pygments_lexer": "ipython3",
   "version": "3.11.13"
  }
 },
 "nbformat": 4,
 "nbformat_minor": 5
}
