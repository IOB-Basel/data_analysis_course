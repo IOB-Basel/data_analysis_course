{
 "cells": [
  {
   "cell_type": "code",
   "execution_count": 2,
   "metadata": {},
   "outputs": [],
   "source": [
    "#Imports\n",
    "import scanpy as sc\n",
    "import pandas as pd\n",
    "import numpy as np\n",
    "import matplotlib.pyplot as plt\n"
   ]
  },
  {
   "cell_type": "code",
   "execution_count": 3,
   "metadata": {},
   "outputs": [
    {
     "data": {
      "text/plain": [
       "AnnData object with n_obs × n_vars = 14878 × 22546\n",
       "    obs: 'initial_size_spliced', 'initial_size_unspliced', 'initial_size', 'fraction_mito', 'n_genes', 'num_spliced', 'num_ambiguous', 'num_unspliced', 'fraction_spliced', 'is_cell', 'is_high_quality', 'is_nonambient', 'is_not_debris', 'soupc_rho', 'sample'\n",
       "    var: 'gene_ids', 'feature_types', 'soup_profile'\n",
       "    layers: 'X_beforeAmbientRemoval', 'ambiguous', 'spliced', 'unspliced'"
      ]
     },
     "execution_count": 3,
     "metadata": {},
     "output_type": "execute_result"
    }
   ],
   "source": [
    "#Load data\n",
    "adata_path = '/home/miklos_boldogkoi_iob_ch/Documents/data_analysis_course/session2/input_data/adata_course_part1.h5ad'\n",
    "adata = sc.read_h5ad(adata_path)\n",
    "adata"
   ]
  },
  {
   "cell_type": "code",
   "execution_count": 4,
   "metadata": {},
   "outputs": [
    {
     "data": {
      "text/html": [
       "<div>\n",
       "<style scoped>\n",
       "    .dataframe tbody tr th:only-of-type {\n",
       "        vertical-align: middle;\n",
       "    }\n",
       "\n",
       "    .dataframe tbody tr th {\n",
       "        vertical-align: top;\n",
       "    }\n",
       "\n",
       "    .dataframe thead th {\n",
       "        text-align: right;\n",
       "    }\n",
       "</style>\n",
       "<table border=\"1\" class=\"dataframe\">\n",
       "  <thead>\n",
       "    <tr style=\"text-align: right;\">\n",
       "      <th></th>\n",
       "      <th>initial_size_spliced</th>\n",
       "      <th>initial_size_unspliced</th>\n",
       "      <th>initial_size</th>\n",
       "      <th>fraction_mito</th>\n",
       "      <th>n_genes</th>\n",
       "      <th>num_spliced</th>\n",
       "      <th>num_ambiguous</th>\n",
       "      <th>num_unspliced</th>\n",
       "      <th>fraction_spliced</th>\n",
       "      <th>is_cell</th>\n",
       "      <th>is_high_quality</th>\n",
       "      <th>is_nonambient</th>\n",
       "      <th>is_not_debris</th>\n",
       "      <th>soupc_rho</th>\n",
       "      <th>sample</th>\n",
       "    </tr>\n",
       "  </thead>\n",
       "  <tbody>\n",
       "    <tr>\n",
       "      <th>AAACCCAAGTTGGCGA-rd10</th>\n",
       "      <td>5801</td>\n",
       "      <td>2365</td>\n",
       "      <td>5801</td>\n",
       "      <td>0.053433</td>\n",
       "      <td>3142</td>\n",
       "      <td>5727</td>\n",
       "      <td>558</td>\n",
       "      <td>2365</td>\n",
       "      <td>0.662081</td>\n",
       "      <td>1</td>\n",
       "      <td>1</td>\n",
       "      <td>1</td>\n",
       "      <td>1</td>\n",
       "      <td>0.241</td>\n",
       "      <td>rd10</td>\n",
       "    </tr>\n",
       "    <tr>\n",
       "      <th>AAACCCACAGAAACCG-rd10</th>\n",
       "      <td>1352</td>\n",
       "      <td>1174</td>\n",
       "      <td>1352</td>\n",
       "      <td>0.029447</td>\n",
       "      <td>1071</td>\n",
       "      <td>1337</td>\n",
       "      <td>153</td>\n",
       "      <td>1174</td>\n",
       "      <td>0.501877</td>\n",
       "      <td>1</td>\n",
       "      <td>1</td>\n",
       "      <td>1</td>\n",
       "      <td>1</td>\n",
       "      <td>0.241</td>\n",
       "      <td>rd10</td>\n",
       "    </tr>\n",
       "    <tr>\n",
       "      <th>AAACCCAGTGCCGTAC-rd10</th>\n",
       "      <td>1007</td>\n",
       "      <td>886</td>\n",
       "      <td>1007</td>\n",
       "      <td>0.039137</td>\n",
       "      <td>935</td>\n",
       "      <td>996</td>\n",
       "      <td>99</td>\n",
       "      <td>886</td>\n",
       "      <td>0.502776</td>\n",
       "      <td>1</td>\n",
       "      <td>1</td>\n",
       "      <td>1</td>\n",
       "      <td>1</td>\n",
       "      <td>0.241</td>\n",
       "      <td>rd10</td>\n",
       "    </tr>\n",
       "    <tr>\n",
       "      <th>AAACCCATCGCGCCAA-rd10</th>\n",
       "      <td>1652</td>\n",
       "      <td>2560</td>\n",
       "      <td>1652</td>\n",
       "      <td>0.120705</td>\n",
       "      <td>1409</td>\n",
       "      <td>1605</td>\n",
       "      <td>234</td>\n",
       "      <td>2560</td>\n",
       "      <td>0.364856</td>\n",
       "      <td>1</td>\n",
       "      <td>1</td>\n",
       "      <td>1</td>\n",
       "      <td>1</td>\n",
       "      <td>0.241</td>\n",
       "      <td>rd10</td>\n",
       "    </tr>\n",
       "    <tr>\n",
       "      <th>AAACGAAAGCAACCAG-rd10</th>\n",
       "      <td>1528</td>\n",
       "      <td>1564</td>\n",
       "      <td>1528</td>\n",
       "      <td>0.031646</td>\n",
       "      <td>1360</td>\n",
       "      <td>1517</td>\n",
       "      <td>158</td>\n",
       "      <td>1564</td>\n",
       "      <td>0.468354</td>\n",
       "      <td>1</td>\n",
       "      <td>1</td>\n",
       "      <td>1</td>\n",
       "      <td>1</td>\n",
       "      <td>0.241</td>\n",
       "      <td>rd10</td>\n",
       "    </tr>\n",
       "  </tbody>\n",
       "</table>\n",
       "</div>"
      ],
      "text/plain": [
       "                       initial_size_spliced  initial_size_unspliced  \\\n",
       "AAACCCAAGTTGGCGA-rd10                  5801                    2365   \n",
       "AAACCCACAGAAACCG-rd10                  1352                    1174   \n",
       "AAACCCAGTGCCGTAC-rd10                  1007                     886   \n",
       "AAACCCATCGCGCCAA-rd10                  1652                    2560   \n",
       "AAACGAAAGCAACCAG-rd10                  1528                    1564   \n",
       "\n",
       "                       initial_size  fraction_mito  n_genes  num_spliced  \\\n",
       "AAACCCAAGTTGGCGA-rd10          5801       0.053433     3142         5727   \n",
       "AAACCCACAGAAACCG-rd10          1352       0.029447     1071         1337   \n",
       "AAACCCAGTGCCGTAC-rd10          1007       0.039137      935          996   \n",
       "AAACCCATCGCGCCAA-rd10          1652       0.120705     1409         1605   \n",
       "AAACGAAAGCAACCAG-rd10          1528       0.031646     1360         1517   \n",
       "\n",
       "                       num_ambiguous  num_unspliced  fraction_spliced is_cell  \\\n",
       "AAACCCAAGTTGGCGA-rd10            558           2365          0.662081       1   \n",
       "AAACCCACAGAAACCG-rd10            153           1174          0.501877       1   \n",
       "AAACCCAGTGCCGTAC-rd10             99            886          0.502776       1   \n",
       "AAACCCATCGCGCCAA-rd10            234           2560          0.364856       1   \n",
       "AAACGAAAGCAACCAG-rd10            158           1564          0.468354       1   \n",
       "\n",
       "                      is_high_quality is_nonambient is_not_debris  soupc_rho  \\\n",
       "AAACCCAAGTTGGCGA-rd10               1             1             1      0.241   \n",
       "AAACCCACAGAAACCG-rd10               1             1             1      0.241   \n",
       "AAACCCAGTGCCGTAC-rd10               1             1             1      0.241   \n",
       "AAACCCATCGCGCCAA-rd10               1             1             1      0.241   \n",
       "AAACGAAAGCAACCAG-rd10               1             1             1      0.241   \n",
       "\n",
       "                      sample  \n",
       "AAACCCAAGTTGGCGA-rd10   rd10  \n",
       "AAACCCACAGAAACCG-rd10   rd10  \n",
       "AAACCCAGTGCCGTAC-rd10   rd10  \n",
       "AAACCCATCGCGCCAA-rd10   rd10  \n",
       "AAACGAAAGCAACCAG-rd10   rd10  "
      ]
     },
     "metadata": {},
     "output_type": "display_data"
    },
    {
     "data": {
      "text/html": [
       "<div>\n",
       "<style scoped>\n",
       "    .dataframe tbody tr th:only-of-type {\n",
       "        vertical-align: middle;\n",
       "    }\n",
       "\n",
       "    .dataframe tbody tr th {\n",
       "        vertical-align: top;\n",
       "    }\n",
       "\n",
       "    .dataframe thead th {\n",
       "        text-align: right;\n",
       "    }\n",
       "</style>\n",
       "<table border=\"1\" class=\"dataframe\">\n",
       "  <thead>\n",
       "    <tr style=\"text-align: right;\">\n",
       "      <th></th>\n",
       "      <th>gene_ids</th>\n",
       "      <th>feature_types</th>\n",
       "      <th>soup_profile</th>\n",
       "    </tr>\n",
       "  </thead>\n",
       "  <tbody>\n",
       "    <tr>\n",
       "      <th>Pcmtd1</th>\n",
       "      <td>ENSMUSG00000051285</td>\n",
       "      <td>Gene Expression</td>\n",
       "      <td>6.692449e-05</td>\n",
       "    </tr>\n",
       "    <tr>\n",
       "      <th>Cdh7</th>\n",
       "      <td>ENSMUSG00000026312</td>\n",
       "      <td>Gene Expression</td>\n",
       "      <td>1.499708e-06</td>\n",
       "    </tr>\n",
       "    <tr>\n",
       "      <th>Exo1</th>\n",
       "      <td>ENSMUSG00000039748</td>\n",
       "      <td>Gene Expression</td>\n",
       "      <td>1.874636e-07</td>\n",
       "    </tr>\n",
       "    <tr>\n",
       "      <th>Becn2</th>\n",
       "      <td>ENSMUSG00000104158</td>\n",
       "      <td>Gene Expression</td>\n",
       "      <td>0.000000e+00</td>\n",
       "    </tr>\n",
       "    <tr>\n",
       "      <th>Uxs1</th>\n",
       "      <td>ENSMUSG00000057363</td>\n",
       "      <td>Gene Expression</td>\n",
       "      <td>9.935569e-06</td>\n",
       "    </tr>\n",
       "  </tbody>\n",
       "</table>\n",
       "</div>"
      ],
      "text/plain": [
       "                  gene_ids    feature_types  soup_profile\n",
       "Pcmtd1  ENSMUSG00000051285  Gene Expression  6.692449e-05\n",
       "Cdh7    ENSMUSG00000026312  Gene Expression  1.499708e-06\n",
       "Exo1    ENSMUSG00000039748  Gene Expression  1.874636e-07\n",
       "Becn2   ENSMUSG00000104158  Gene Expression  0.000000e+00\n",
       "Uxs1    ENSMUSG00000057363  Gene Expression  9.935569e-06"
      ]
     },
     "metadata": {},
     "output_type": "display_data"
    }
   ],
   "source": [
    "display(adata.obs.head())\n",
    "display(adata.var.head())"
   ]
  },
  {
   "cell_type": "code",
   "execution_count": 5,
   "metadata": {},
   "outputs": [
    {
     "name": "stdout",
     "output_type": "stream",
     "text": [
      "unspliced: 13\n",
      "spliced:  5771\n",
      "gene:  Cartpt\n"
     ]
    }
   ],
   "source": [
    "print('unspliced:', adata.layers['unspliced'][5247, 16984])\n",
    "print('spliced: ', adata.layers['spliced'][5247, 16984])\n",
    "print('gene: ', adata.var_names[16984])"
   ]
  },
  {
   "cell_type": "code",
   "execution_count": 6,
   "metadata": {},
   "outputs": [
    {
     "name": "stdout",
     "output_type": "stream",
     "text": [
      "Number of cells:  14878\n",
      "Number of genes:  22546\n",
      "rd10% =  46.22933189944885\n"
     ]
    }
   ],
   "source": [
    "total = adata.obs['sample'].size\n",
    "rd10 = adata.obs['sample'].value_counts()[1]\n",
    "percentage = rd10/total * 100\n",
    "print('Number of cells: ', total)\n",
    "print('Number of genes: ', adata.X.shape[1])\n",
    "print('rd10% = ', percentage)"
   ]
  },
  {
   "cell_type": "code",
   "execution_count": 7,
   "metadata": {},
   "outputs": [
    {
     "name": "stdout",
     "output_type": "stream",
     "text": [
      "Mean soup:  4.435376563470239e-05\n",
      "Highest soup gene:  Hbb-bs\n"
     ]
    }
   ],
   "source": [
    "mean_soup = np.mean(adata.var['soup_profile'])\n",
    "print('Mean soup: ', mean_soup)\n",
    "\n",
    "max_soup = adata.var['soup_profile'].sort_values(ascending=False).head()\n",
    "print('Highest soup gene: ', max_soup.index[0])"
   ]
  },
  {
   "cell_type": "code",
   "execution_count": 8,
   "metadata": {},
   "outputs": [
    {
     "name": "stdout",
     "output_type": "stream",
     "text": [
      "(14878, 1)\n",
      "[[38969.19099069]]\n",
      "[[751.42498848]]\n"
     ]
    }
   ],
   "source": [
    "total_trscripts = adata.X.sum(axis=1)\n",
    "print(total_trscripts.shape)\n",
    "\n",
    "adata.obs['Total_RNA_Count'] = total_trscripts\n",
    "\n",
    "print(max(total_trscripts))\n",
    "print(min(total_trscripts))\n"
   ]
  },
  {
   "cell_type": "code",
   "execution_count": 9,
   "metadata": {},
   "outputs": [
    {
     "data": {
      "text/plain": [
       "Text(0, 0.5, 'Frequency')"
      ]
     },
     "execution_count": 9,
     "metadata": {},
     "output_type": "execute_result"
    },
    {
     "data": {
      "image/png": "[encoded data removed]",
      "text/plain": [
       "<Figure size 640x480 with 1 Axes>"
      ]
     },
     "metadata": {},
     "output_type": "display_data"
    }
   ],
   "source": [
    "#plot\n",
    "plt.hist(adata.obs['Total_RNA_Count'], bins=1000)\n",
    "plt.title('A less ugly bar chart')\n",
    "plt.xlabel('Total_RNA_count_bins')\n",
    "plt.ylabel('Frequency')\n"
   ]
  },
  {
   "cell_type": "code",
   "execution_count": 18,
   "metadata": {},
   "outputs": [
    {
     "name": "stdout",
     "output_type": "stream",
     "text": [
      "0.08764821290969849\n"
     ]
    }
   ],
   "source": [
    "max_fraction_mito = adata.obs['fraction_mito'].mean() + 2 * adata.obs['fraction_mito'].std()\n",
    "print(max_fraction_mito)\n"
   ]
  },
  {
   "cell_type": "markdown",
   "metadata": {},
   "source": [
    "Snakemake"
   ]
  },
  {
   "cell_type": "code",
   "execution_count": null,
   "metadata": {},
   "outputs": [],
   "source": []
  },
  {
   "cell_type": "markdown",
   "metadata": {},
   "source": [
    "Keeping the VM busy"
   ]
  },
  {
   "cell_type": "code",
   "execution_count": 10,
   "metadata": {},
   "outputs": [
    {
     "name": "stdout",
     "output_type": "stream",
     "text": [
      "The prime factors of 315 are: [3, 3, 5, 7]\n"
     ]
    }
   ],
   "source": [
    "# def prime_factors(n):\n",
    "#     factors = []\n",
    "#     # Check for number of 2s that divide n\n",
    "#     while n % 2 == 0:\n",
    "#         factors.append(2)\n",
    "#         n = n // 2\n",
    "\n",
    "#     # n must be odd at this point so a skip of 2 (i = i + 2) can be used\n",
    "#     for i in range(3, int(n**0.5) + 1, 2):\n",
    "#         # While i divides n, add i and divide n\n",
    "#         while n % i == 0:\n",
    "#             factors.append(i)\n",
    "#             n = n // i\n",
    "\n",
    "#     # Condition if n is a prime number greater than 2\n",
    "#     if n > 2:\n",
    "#         factors.append(n)\n",
    "\n",
    "#     return factors\n",
    "\n",
    "# # Example usage\n",
    "# number = 315\n",
    "# print(f\"The prime factors of {number} are: {prime_factors(number)}\")\n",
    "\n"
   ]
  },
  {
   "cell_type": "code",
   "execution_count": 11,
   "metadata": {},
   "outputs": [
    {
     "name": "stdout",
     "output_type": "stream",
     "text": [
      "0.09692488367085474\n"
     ]
    }
   ],
   "source": []
  },
  {
   "cell_type": "code",
   "execution_count": 12,
   "metadata": {},
   "outputs": [],
   "source": [
    "p1 = prime_factors(1748724807438792467)"
   ]
  },
  {
   "cell_type": "code",
   "execution_count": 13,
   "metadata": {},
   "outputs": [
    {
     "name": "stdout",
     "output_type": "stream",
     "text": [
      "[1748724807438792467]\n"
     ]
    },
    {
     "data": {
      "text/plain": [
       "[2, 2, 2, 2, 2, 2, 2, 2, 2, 5, 5, 5, 5, 5, 5, 5, 5, 5]"
      ]
     },
     "execution_count": 13,
     "metadata": {},
     "output_type": "execute_result"
    }
   ],
   "source": [
    "print(p1)\n",
    "prime_factors(1000000000)"
   ]
  }
 ],
 "metadata": {
  "kernelspec": {
   "display_name": "session2_scanpy",
   "language": "python",
   "name": "python3"
  },
  "language_info": {
   "codemirror_mode": {
    "name": "ipython",
    "version": 3
   },
   "file_extension": ".py",
   "mimetype": "text/x-python",
   "name": "python",
   "nbconvert_exporter": "python",
   "pygments_lexer": "ipython3",
   "version": "3.1.undefined"
  }
 },
 "nbformat": 4,
 "nbformat_minor": 2
}
