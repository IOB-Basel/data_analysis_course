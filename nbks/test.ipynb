{
 "cells": [
  {
   "cell_type": "code",
   "execution_count": 3,
   "metadata": {},
   "outputs": [],
   "source": [
    "import pandas as pd\n"
   ]
  },
  {
   "cell_type": "code",
   "execution_count": 4,
   "metadata": {},
   "outputs": [
    {
     "name": "stdout",
     "output_type": "stream",
     "text": [
      "Index(['Allele_ID', 'Allele_frequency', 'Contained_mutations', 'Mut_effects',\n",
      "       'KO'],\n",
      "      dtype='object')\n",
      "10\n"
     ]
    }
   ],
   "source": [
    "path = '/home/miklos_boldogkoi_iob_ch/Documents/data_analysis_course/data/example.csv'\n",
    "t = pd.read_csv(path)\n",
    "\n",
    "print(t.columns)\n",
    "print(len(t))"
   ]
  }
 ],
 "metadata": {
  "kernelspec": {
   "display_name": "pandas_env2",
   "language": "python",
   "name": "python3"
  },
  "language_info": {
   "codemirror_mode": {
    "name": "ipython",
    "version": 3
   },
   "file_extension": ".py",
   "mimetype": "text/x-python",
   "name": "python",
   "nbconvert_exporter": "python",
   "pygments_lexer": "ipython3",
   "version": "3.12.3"
  }
 },
 "nbformat": 4,
 "nbformat_minor": 2
}
