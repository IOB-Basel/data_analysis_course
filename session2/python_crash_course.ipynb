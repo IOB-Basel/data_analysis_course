{
 "cells": [
  {
   "cell_type": "markdown",
   "id": "0d465a71",
   "metadata": {},
   "source": [
    "# An Introduction to Python for Data Analysis"
   ]
  },
  {
   "cell_type": "markdown",
   "id": "cca60320",
   "metadata": {},
   "source": [
    "## Part 1: Python Fundamentals\n",
    "\n",
    "To be able to carry out sophisticated data analyses, we must first understand the Python programming language and its fundamental constructs."
   ]
  },
  {
   "cell_type": "markdown",
   "id": "b4d51e61",
   "metadata": {},
   "source": [
    "### Variables\n",
    "\n",
    "A variable serves as a named storage location for data values, allowing for data to be labeled and referenced throughout a program. A value is assigned to a variable using the equals operator (=). Each value has an intrinsic data type, such as integer, float, or string, which dictates the kinds of operations that can be performed on it."
   ]
  },
  {
   "cell_type": "code",
   "execution_count": 20,
   "id": "4c84bd5c",
   "metadata": {},
   "outputs": [],
   "source": [
    "# An integer (whole number) for discrete counts\n",
    "number_of_students = 25\n",
    "\n",
    "# A float (number with a decimal) for continuous measurements\n",
    "average_score = 88.5\n",
    "\n",
    "# A string (text), enclosed in quotation marks\n",
    "course_name = \"Introduction to Data Science\"\n",
    "\n",
    "# A list (an ordered, mutable collection of items)\n",
    "student_names = [\"Alice\", \"Bob\", \"Charlie\"]"
   ]
  },
  {
   "cell_type": "code",
   "execution_count": 21,
   "id": "d5b474d0",
   "metadata": {},
   "outputs": [
    {
     "name": "stdout",
     "output_type": "stream",
     "text": [
      "Course Name: Introduction to Data Science\n",
      "Student Roster: ['Alice', 'Bob', 'Charlie']\n"
     ]
    }
   ],
   "source": [
    "# The contents of a variable can be displayed using the print() function\n",
    "print(\"Course Name:\", course_name)\n",
    "print(\"Student Roster:\", student_names)"
   ]
  },
  {
   "cell_type": "markdown",
   "id": "27c5405e",
   "metadata": {},
   "source": [
    "### Indexing\n",
    "\n",
    "Elements within ordered sequences (lists, arrays) can be accessed by using an index that points to the location of individual elements within the sequence. Python is a 0-indexed language, meaning that the first position of an ordered sequence is accessed with `0`."
   ]
  },
  {
   "cell_type": "code",
   "execution_count": 44,
   "id": "aaf818b3",
   "metadata": {},
   "outputs": [
    {
     "name": "stdout",
     "output_type": "stream",
     "text": [
      "The first student is: Alice\n",
      "The third student is: Charlie\n",
      "The last student is: Charlie\n",
      "The first two students are: ['Alice', 'Bob']\n",
      "The last two students are: ['Bob', 'Charlie']\n"
     ]
    }
   ],
   "source": [
    "# Access the first element in the list (at index 0)\n",
    "first_student = student_names[0]\n",
    "print(\"The first student is:\", first_student)\n",
    "\n",
    "# Access the third element in the list (at index 2)\n",
    "third_student = student_names[2]\n",
    "print(\"The third student is:\", third_student)\n",
    "\n",
    "# Negative indexing can also be used, which counts from the end of the list.\n",
    "# -1 refers to the last element, -2 to the second-to-last, etc.\n",
    "last_student = student_names[-1]\n",
    "print(\"The last student is:\", last_student)\n",
    "\n",
    "# Sublists can be created using slicing, which is done with a colon (:)\n",
    "first_two_students = student_names[0:2]  # Gets the first two students\n",
    "print(\"The first two students are:\", first_two_students)\n",
    "\n",
    "last_two_students = student_names[-2:]  # Gets the last two students\n",
    "print(\"The last two students are:\", last_two_students)"
   ]
  },
  {
   "cell_type": "markdown",
   "id": "7d10593e",
   "metadata": {},
   "source": [
    "### Conditional Logic: if, elif, else\n",
    "\n",
    "Conditional logic facilitates the execution of specific code blocks contingent upon the evaluation of one or more boolean conditions. This sequential evaluation mechanism enables complex decision-making within a program.\n",
    "\n",
    "`if`: Evaluates the primary condition. If true, the associated code block is executed, and the chain is exited.\n",
    "\n",
    "`elif`: (an abbreviation of \"else if\") If the preceding if or elif condition evaluates to false, this next condition is checked. The program proceeds down the chain until a condition is met.\n",
    "\n",
    "`else`: If all preceding if and elif conditions evaluate to false, this final code block is executed by default."
   ]
  },
  {
   "cell_type": "code",
   "execution_count": null,
   "id": "4c155fea",
   "metadata": {},
   "outputs": [
    {
     "name": "stdout",
     "output_type": "stream",
     "text": [
      "Grade: C\n"
     ]
    }
   ],
   "source": [
    "score = 78 # Play with this value to see how it affects the output\n",
    "\n",
    "if score >= 90:\n",
    "    print(\"Grade: A\")\n",
    "elif score >= 80:\n",
    "    print(\"Grade: B\") # The program stops here, as 78 is not >= 80.\n",
    "elif score >= 70:\n",
    "    print(\"Grade: C\") # This condition is met, so \"Grade: C\" is printed.\n",
    "else:\n",
    "    print(\"Grade: D or F\") # This block is skipped because a prior condition was true."
   ]
  },
  {
   "cell_type": "markdown",
   "id": "7b68c760",
   "metadata": {},
   "source": [
    "### for Loops\n",
    "\n",
    "A for loop is employed to iterate over a sequence (such as a list, string, or range of numbers) and execute a defined action for each element. This structure is fundamental for performing repetitive tasks efficiently and systematically, allowing us to automate processes that would be tedious and error-prone if performed manually."
   ]
  },
  {
   "cell_type": "code",
   "execution_count": 23,
   "id": "f16c16b6",
   "metadata": {},
   "outputs": [
    {
     "name": "stdout",
     "output_type": "stream",
     "text": [
      "Sending welcome email to: Alice\n",
      "Sending welcome email to: Bob\n",
      "Sending welcome email to: Charlie\n"
     ]
    }
   ],
   "source": [
    "# The following loop iterates through the previously defined list of student names.\n",
    "\n",
    "# For each pass of the loop, the variable 'name' will hold the next element from the list.\n",
    "for name in student_names:\n",
    "    print(\"Sending welcome email to:\", name)\n",
    "\n",
    "# This will print the message three times, once for each name in the list."
   ]
  },
  {
   "cell_type": "markdown",
   "id": "17df4717",
   "metadata": {},
   "source": [
    "## Setting Up for Data Analysis\n",
    "\n",
    "The initial step in any reproducible data analysis workflow involves importing the required libraries, which provide pre-written code for specialized tasks.\n",
    "\n",
    "### Loading the Iris Dataset\n",
    "\n",
    "This tutorial utilizes the canonical \"Iris\" dataset from the scikit-learn library, a premier tool for machine learning in Python. This dataset contains measurements for 150 iris flower specimens from three distinct species. The data is loaded and then converted into a Pandas DataFrame, a two-dimensional, size-mutable, and heterogeneous tabular data structure with labeled axes (rows and columns), which is the principal object for analytical tasks in Python."
   ]
  },
  {
   "cell_type": "code",
   "execution_count": 35,
   "id": "fe9f2f66",
   "metadata": {},
   "outputs": [],
   "source": [
    "# Import the necessary libraries, assigning standard aliases for brevity\n",
    "# You need to refer to aliases to call functions from these libraries.\n",
    "\n",
    "import pandas as pd\n",
    "import numpy as np\n",
    "import seaborn as sns\n",
    "import matplotlib.pyplot as plt\n",
    "from sklearn.datasets import load_iris\n",
    "\n",
    "# Load the Iris dataset object from scikit-learn\n",
    "# Manipulation to turn it into a tidy Pandas DataFrame -- ignore the following lines\n",
    "df = load_iris(as_frame=True)\n",
    "df_iris = df.frame.copy()\n",
    "df_iris[\"species\"] = df.target.map(\n",
    "    {0: \"setosa\", 1: \"versicolor\", 2: \"virginica\"}\n",
    ")\n",
    "# remove the target column\n",
    "df_iris.drop(columns=[\"target\"], inplace=True)\n",
    "del df"
   ]
  },
  {
   "cell_type": "markdown",
   "id": "61e9f258",
   "metadata": {},
   "source": [
    "### Pandas for Data Exploration\n",
    "\n",
    "Pandas is a cornerstone library for managing, cleaning, and manipulating tabular data - \"data wrangling\". The df_iris variable holds an instance of a Pandas DataFrame, which is now ready for exploration.\n",
    "\n",
    "#### Exploring the DataFrame\n",
    "\n",
    "Several functions are available to obtain a high-level summary of the data, which is a critical first step in any analysis.\n",
    "\n",
    "Note that a function other than print, `display`, is used in the following code block. `display` is a IPython (interactive Python / e.g. Jupyter notebook) function that prints dataframes in a visually appealing and easier-to-read format."
   ]
  },
  {
   "cell_type": "code",
   "execution_count": 36,
   "id": "7818a76e",
   "metadata": {},
   "outputs": [
    {
     "name": "stdout",
     "output_type": "stream",
     "text": [
      "--- First 5 Rows ---\n"
     ]
    },
    {
     "data": {
      "text/html": [
       "<div>\n",
       "<style scoped>\n",
       "    .dataframe tbody tr th:only-of-type {\n",
       "        vertical-align: middle;\n",
       "    }\n",
       "\n",
       "    .dataframe tbody tr th {\n",
       "        vertical-align: top;\n",
       "    }\n",
       "\n",
       "    .dataframe thead th {\n",
       "        text-align: right;\n",
       "    }\n",
       "</style>\n",
       "<table border=\"1\" class=\"dataframe\">\n",
       "  <thead>\n",
       "    <tr style=\"text-align: right;\">\n",
       "      <th></th>\n",
       "      <th>sepal length (cm)</th>\n",
       "      <th>sepal width (cm)</th>\n",
       "      <th>petal length (cm)</th>\n",
       "      <th>petal width (cm)</th>\n",
       "      <th>species</th>\n",
       "    </tr>\n",
       "  </thead>\n",
       "  <tbody>\n",
       "    <tr>\n",
       "      <th>0</th>\n",
       "      <td>5.1</td>\n",
       "      <td>3.5</td>\n",
       "      <td>1.4</td>\n",
       "      <td>0.2</td>\n",
       "      <td>setosa</td>\n",
       "    </tr>\n",
       "    <tr>\n",
       "      <th>1</th>\n",
       "      <td>4.9</td>\n",
       "      <td>3.0</td>\n",
       "      <td>1.4</td>\n",
       "      <td>0.2</td>\n",
       "      <td>setosa</td>\n",
       "    </tr>\n",
       "    <tr>\n",
       "      <th>2</th>\n",
       "      <td>4.7</td>\n",
       "      <td>3.2</td>\n",
       "      <td>1.3</td>\n",
       "      <td>0.2</td>\n",
       "      <td>setosa</td>\n",
       "    </tr>\n",
       "    <tr>\n",
       "      <th>3</th>\n",
       "      <td>4.6</td>\n",
       "      <td>3.1</td>\n",
       "      <td>1.5</td>\n",
       "      <td>0.2</td>\n",
       "      <td>setosa</td>\n",
       "    </tr>\n",
       "    <tr>\n",
       "      <th>4</th>\n",
       "      <td>5.0</td>\n",
       "      <td>3.6</td>\n",
       "      <td>1.4</td>\n",
       "      <td>0.2</td>\n",
       "      <td>setosa</td>\n",
       "    </tr>\n",
       "  </tbody>\n",
       "</table>\n",
       "</div>"
      ],
      "text/plain": [
       "   sepal length (cm)  sepal width (cm)  petal length (cm)  petal width (cm)  \\\n",
       "0                5.1               3.5                1.4               0.2   \n",
       "1                4.9               3.0                1.4               0.2   \n",
       "2                4.7               3.2                1.3               0.2   \n",
       "3                4.6               3.1                1.5               0.2   \n",
       "4                5.0               3.6                1.4               0.2   \n",
       "\n",
       "  species  \n",
       "0  setosa  \n",
       "1  setosa  \n",
       "2  setosa  \n",
       "3  setosa  \n",
       "4  setosa  "
      ]
     },
     "metadata": {},
     "output_type": "display_data"
    },
    {
     "name": "stdout",
     "output_type": "stream",
     "text": [
      "\n",
      "--- DataFrame Info ---\n",
      "<class 'pandas.core.frame.DataFrame'>\n",
      "RangeIndex: 150 entries, 0 to 149\n",
      "Data columns (total 5 columns):\n",
      " #   Column             Non-Null Count  Dtype  \n",
      "---  ------             --------------  -----  \n",
      " 0   sepal length (cm)  150 non-null    float64\n",
      " 1   sepal width (cm)   150 non-null    float64\n",
      " 2   petal length (cm)  150 non-null    float64\n",
      " 3   petal width (cm)   150 non-null    float64\n",
      " 4   species            150 non-null    object \n",
      "dtypes: float64(4), object(1)\n",
      "memory usage: 6.0+ KB\n",
      "None\n",
      "\n",
      "--- Statistical Summary ---\n"
     ]
    },
    {
     "data": {
      "text/html": [
       "<div>\n",
       "<style scoped>\n",
       "    .dataframe tbody tr th:only-of-type {\n",
       "        vertical-align: middle;\n",
       "    }\n",
       "\n",
       "    .dataframe tbody tr th {\n",
       "        vertical-align: top;\n",
       "    }\n",
       "\n",
       "    .dataframe thead th {\n",
       "        text-align: right;\n",
       "    }\n",
       "</style>\n",
       "<table border=\"1\" class=\"dataframe\">\n",
       "  <thead>\n",
       "    <tr style=\"text-align: right;\">\n",
       "      <th></th>\n",
       "      <th>sepal length (cm)</th>\n",
       "      <th>sepal width (cm)</th>\n",
       "      <th>petal length (cm)</th>\n",
       "      <th>petal width (cm)</th>\n",
       "    </tr>\n",
       "  </thead>\n",
       "  <tbody>\n",
       "    <tr>\n",
       "      <th>count</th>\n",
       "      <td>150.000000</td>\n",
       "      <td>150.000000</td>\n",
       "      <td>150.000000</td>\n",
       "      <td>150.000000</td>\n",
       "    </tr>\n",
       "    <tr>\n",
       "      <th>mean</th>\n",
       "      <td>5.843333</td>\n",
       "      <td>3.057333</td>\n",
       "      <td>3.758000</td>\n",
       "      <td>1.199333</td>\n",
       "    </tr>\n",
       "    <tr>\n",
       "      <th>std</th>\n",
       "      <td>0.828066</td>\n",
       "      <td>0.435866</td>\n",
       "      <td>1.765298</td>\n",
       "      <td>0.762238</td>\n",
       "    </tr>\n",
       "    <tr>\n",
       "      <th>min</th>\n",
       "      <td>4.300000</td>\n",
       "      <td>2.000000</td>\n",
       "      <td>1.000000</td>\n",
       "      <td>0.100000</td>\n",
       "    </tr>\n",
       "    <tr>\n",
       "      <th>25%</th>\n",
       "      <td>5.100000</td>\n",
       "      <td>2.800000</td>\n",
       "      <td>1.600000</td>\n",
       "      <td>0.300000</td>\n",
       "    </tr>\n",
       "    <tr>\n",
       "      <th>50%</th>\n",
       "      <td>5.800000</td>\n",
       "      <td>3.000000</td>\n",
       "      <td>4.350000</td>\n",
       "      <td>1.300000</td>\n",
       "    </tr>\n",
       "    <tr>\n",
       "      <th>75%</th>\n",
       "      <td>6.400000</td>\n",
       "      <td>3.300000</td>\n",
       "      <td>5.100000</td>\n",
       "      <td>1.800000</td>\n",
       "    </tr>\n",
       "    <tr>\n",
       "      <th>max</th>\n",
       "      <td>7.900000</td>\n",
       "      <td>4.400000</td>\n",
       "      <td>6.900000</td>\n",
       "      <td>2.500000</td>\n",
       "    </tr>\n",
       "  </tbody>\n",
       "</table>\n",
       "</div>"
      ],
      "text/plain": [
       "       sepal length (cm)  sepal width (cm)  petal length (cm)  \\\n",
       "count         150.000000        150.000000         150.000000   \n",
       "mean            5.843333          3.057333           3.758000   \n",
       "std             0.828066          0.435866           1.765298   \n",
       "min             4.300000          2.000000           1.000000   \n",
       "25%             5.100000          2.800000           1.600000   \n",
       "50%             5.800000          3.000000           4.350000   \n",
       "75%             6.400000          3.300000           5.100000   \n",
       "max             7.900000          4.400000           6.900000   \n",
       "\n",
       "       petal width (cm)  \n",
       "count        150.000000  \n",
       "mean           1.199333  \n",
       "std            0.762238  \n",
       "min            0.100000  \n",
       "25%            0.300000  \n",
       "50%            1.300000  \n",
       "75%            1.800000  \n",
       "max            2.500000  "
      ]
     },
     "metadata": {},
     "output_type": "display_data"
    }
   ],
   "source": [
    "# Display the first 5 rows of the DataFrame using .head() to get a quick sample of the data.\n",
    "print(\"--- First 5 Rows ---\")\n",
    "display(df_iris.head())\n",
    "\n",
    "# Use .info() to generate a concise summary of the DataFrame, including data types and non-null counts.\n",
    "# This is particularly useful for identifying missing data (where non-null count is less than the total entries).\n",
    "print(\"\\n--- DataFrame Info ---\")\n",
    "print(df_iris.info())\n",
    "\n",
    "# Use .describe() to compute a statistical summary of the numerical columns.\n",
    "# This includes count, mean, standard deviation, and the five-number summary (min, 25th, 50th, 75th percentiles, and max).\n",
    "print(\"\\n--- Statistical Summary ---\")\n",
    "display(df_iris.describe())\n"
   ]
  },
  {
   "cell_type": "markdown",
   "id": "f46c2e2e",
   "metadata": {},
   "source": [
    "### Selecting Columns\n",
    "\n",
    "Specific columns within the DataFrame can be isolated for focused analysis. This is achieved by referencing the column name(s) within square brackets.\n"
   ]
  },
  {
   "cell_type": "code",
   "execution_count": 38,
   "id": "9d9d484f",
   "metadata": {},
   "outputs": [
    {
     "name": "stdout",
     "output_type": "stream",
     "text": [
      "\n",
      "--- Sepal Length Column (Pandas Series) ---\n"
     ]
    },
    {
     "data": {
      "text/plain": [
       "0    5.1\n",
       "1    4.9\n",
       "2    4.7\n",
       "3    4.6\n",
       "4    5.0\n",
       "Name: sepal length (cm), dtype: float64"
      ]
     },
     "metadata": {},
     "output_type": "display_data"
    },
    {
     "name": "stdout",
     "output_type": "stream",
     "text": [
      "\n",
      "--- Sepal Info (Pandas DataFrame) ---\n"
     ]
    },
    {
     "data": {
      "text/html": [
       "<div>\n",
       "<style scoped>\n",
       "    .dataframe tbody tr th:only-of-type {\n",
       "        vertical-align: middle;\n",
       "    }\n",
       "\n",
       "    .dataframe tbody tr th {\n",
       "        vertical-align: top;\n",
       "    }\n",
       "\n",
       "    .dataframe thead th {\n",
       "        text-align: right;\n",
       "    }\n",
       "</style>\n",
       "<table border=\"1\" class=\"dataframe\">\n",
       "  <thead>\n",
       "    <tr style=\"text-align: right;\">\n",
       "      <th></th>\n",
       "      <th>sepal length (cm)</th>\n",
       "      <th>sepal width (cm)</th>\n",
       "      <th>species</th>\n",
       "    </tr>\n",
       "  </thead>\n",
       "  <tbody>\n",
       "    <tr>\n",
       "      <th>0</th>\n",
       "      <td>5.1</td>\n",
       "      <td>3.5</td>\n",
       "      <td>setosa</td>\n",
       "    </tr>\n",
       "    <tr>\n",
       "      <th>1</th>\n",
       "      <td>4.9</td>\n",
       "      <td>3.0</td>\n",
       "      <td>setosa</td>\n",
       "    </tr>\n",
       "    <tr>\n",
       "      <th>2</th>\n",
       "      <td>4.7</td>\n",
       "      <td>3.2</td>\n",
       "      <td>setosa</td>\n",
       "    </tr>\n",
       "    <tr>\n",
       "      <th>3</th>\n",
       "      <td>4.6</td>\n",
       "      <td>3.1</td>\n",
       "      <td>setosa</td>\n",
       "    </tr>\n",
       "    <tr>\n",
       "      <th>4</th>\n",
       "      <td>5.0</td>\n",
       "      <td>3.6</td>\n",
       "      <td>setosa</td>\n",
       "    </tr>\n",
       "  </tbody>\n",
       "</table>\n",
       "</div>"
      ],
      "text/plain": [
       "   sepal length (cm)  sepal width (cm) species\n",
       "0                5.1               3.5  setosa\n",
       "1                4.9               3.0  setosa\n",
       "2                4.7               3.2  setosa\n",
       "3                4.6               3.1  setosa\n",
       "4                5.0               3.6  setosa"
      ]
     },
     "metadata": {},
     "output_type": "display_data"
    }
   ],
   "source": [
    "# Selecting a single column returns a one-dimensional Pandas Series object.\n",
    "sepal_lengths = df_iris['sepal length (cm)']\n",
    "print(\"\\n--- Sepal Length Column (Pandas Series) ---\")\n",
    "display(sepal_lengths.head())\n",
    "\n",
    "# Selecting multiple columns requires passing a list of column names.\n",
    "# This returns a new, two-dimensional DataFrame object containing only the specified columns.\n",
    "sepal_info = df_iris[['sepal length (cm)', 'sepal width (cm)', 'species']]\n",
    "print(\"\\n--- Sepal Info (Pandas DataFrame) ---\")\n",
    "display(sepal_info.head())"
   ]
  },
  {
   "cell_type": "markdown",
   "id": "71ccadaa",
   "metadata": {},
   "source": [
    "### Subsetting Data with Boolean Conditions\n",
    "Beyond selecting columns by name, a more powerful technique is to filter rows based on specific conditions. This is often referred to as boolean indexing. The process involves creating a sequence of True and False values (a boolean Series) where True corresponds to the rows you want to keep. This boolean Series is then used inside the square brackets to return a new DataFrame containing only the rows that met the condition."
   ]
  },
  {
   "cell_type": "code",
   "execution_count": 45,
   "id": "8b092a67",
   "metadata": {},
   "outputs": [
    {
     "name": "stdout",
     "output_type": "stream",
     "text": [
      "--- Boolean Series for 'setosa' ---\n"
     ]
    },
    {
     "data": {
      "text/plain": [
       "0    True\n",
       "1    True\n",
       "2    True\n",
       "3    True\n",
       "4    True\n",
       "Name: species, dtype: bool"
      ]
     },
     "metadata": {},
     "output_type": "display_data"
    },
    {
     "name": "stdout",
     "output_type": "stream",
     "text": [
      "\n",
      "--- DataFrame containing only setosa species ---\n"
     ]
    },
    {
     "data": {
      "text/html": [
       "<div>\n",
       "<style scoped>\n",
       "    .dataframe tbody tr th:only-of-type {\n",
       "        vertical-align: middle;\n",
       "    }\n",
       "\n",
       "    .dataframe tbody tr th {\n",
       "        vertical-align: top;\n",
       "    }\n",
       "\n",
       "    .dataframe thead th {\n",
       "        text-align: right;\n",
       "    }\n",
       "</style>\n",
       "<table border=\"1\" class=\"dataframe\">\n",
       "  <thead>\n",
       "    <tr style=\"text-align: right;\">\n",
       "      <th></th>\n",
       "      <th>sepal length (cm)</th>\n",
       "      <th>sepal width (cm)</th>\n",
       "      <th>petal length (cm)</th>\n",
       "      <th>petal width (cm)</th>\n",
       "      <th>species</th>\n",
       "    </tr>\n",
       "  </thead>\n",
       "  <tbody>\n",
       "    <tr>\n",
       "      <th>0</th>\n",
       "      <td>5.1</td>\n",
       "      <td>3.5</td>\n",
       "      <td>1.4</td>\n",
       "      <td>0.2</td>\n",
       "      <td>setosa</td>\n",
       "    </tr>\n",
       "    <tr>\n",
       "      <th>1</th>\n",
       "      <td>4.9</td>\n",
       "      <td>3.0</td>\n",
       "      <td>1.4</td>\n",
       "      <td>0.2</td>\n",
       "      <td>setosa</td>\n",
       "    </tr>\n",
       "    <tr>\n",
       "      <th>2</th>\n",
       "      <td>4.7</td>\n",
       "      <td>3.2</td>\n",
       "      <td>1.3</td>\n",
       "      <td>0.2</td>\n",
       "      <td>setosa</td>\n",
       "    </tr>\n",
       "    <tr>\n",
       "      <th>3</th>\n",
       "      <td>4.6</td>\n",
       "      <td>3.1</td>\n",
       "      <td>1.5</td>\n",
       "      <td>0.2</td>\n",
       "      <td>setosa</td>\n",
       "    </tr>\n",
       "    <tr>\n",
       "      <th>4</th>\n",
       "      <td>5.0</td>\n",
       "      <td>3.6</td>\n",
       "      <td>1.4</td>\n",
       "      <td>0.2</td>\n",
       "      <td>setosa</td>\n",
       "    </tr>\n",
       "  </tbody>\n",
       "</table>\n",
       "</div>"
      ],
      "text/plain": [
       "   sepal length (cm)  sepal width (cm)  petal length (cm)  petal width (cm)  \\\n",
       "0                5.1               3.5                1.4               0.2   \n",
       "1                4.9               3.0                1.4               0.2   \n",
       "2                4.7               3.2                1.3               0.2   \n",
       "3                4.6               3.1                1.5               0.2   \n",
       "4                5.0               3.6                1.4               0.2   \n",
       "\n",
       "  species  \n",
       "0  setosa  \n",
       "1  setosa  \n",
       "2  setosa  \n",
       "3  setosa  \n",
       "4  setosa  "
      ]
     },
     "metadata": {},
     "output_type": "display_data"
    },
    {
     "name": "stdout",
     "output_type": "stream",
     "text": [
      "Original DataFrame length: 150, Filtered DataFrame length: 50\n",
      "\n",
      "--- DataFrame of virginica with large petals ---\n"
     ]
    },
    {
     "data": {
      "text/html": [
       "<div>\n",
       "<style scoped>\n",
       "    .dataframe tbody tr th:only-of-type {\n",
       "        vertical-align: middle;\n",
       "    }\n",
       "\n",
       "    .dataframe tbody tr th {\n",
       "        vertical-align: top;\n",
       "    }\n",
       "\n",
       "    .dataframe thead th {\n",
       "        text-align: right;\n",
       "    }\n",
       "</style>\n",
       "<table border=\"1\" class=\"dataframe\">\n",
       "  <thead>\n",
       "    <tr style=\"text-align: right;\">\n",
       "      <th></th>\n",
       "      <th>sepal length (cm)</th>\n",
       "      <th>sepal width (cm)</th>\n",
       "      <th>petal length (cm)</th>\n",
       "      <th>petal width (cm)</th>\n",
       "      <th>species</th>\n",
       "    </tr>\n",
       "  </thead>\n",
       "  <tbody>\n",
       "    <tr>\n",
       "      <th>100</th>\n",
       "      <td>6.3</td>\n",
       "      <td>3.3</td>\n",
       "      <td>6.0</td>\n",
       "      <td>2.5</td>\n",
       "      <td>virginica</td>\n",
       "    </tr>\n",
       "    <tr>\n",
       "      <th>102</th>\n",
       "      <td>7.1</td>\n",
       "      <td>3.0</td>\n",
       "      <td>5.9</td>\n",
       "      <td>2.1</td>\n",
       "      <td>virginica</td>\n",
       "    </tr>\n",
       "    <tr>\n",
       "      <th>104</th>\n",
       "      <td>6.5</td>\n",
       "      <td>3.0</td>\n",
       "      <td>5.8</td>\n",
       "      <td>2.2</td>\n",
       "      <td>virginica</td>\n",
       "    </tr>\n",
       "    <tr>\n",
       "      <th>105</th>\n",
       "      <td>7.6</td>\n",
       "      <td>3.0</td>\n",
       "      <td>6.6</td>\n",
       "      <td>2.1</td>\n",
       "      <td>virginica</td>\n",
       "    </tr>\n",
       "    <tr>\n",
       "      <th>109</th>\n",
       "      <td>7.2</td>\n",
       "      <td>3.6</td>\n",
       "      <td>6.1</td>\n",
       "      <td>2.5</td>\n",
       "      <td>virginica</td>\n",
       "    </tr>\n",
       "  </tbody>\n",
       "</table>\n",
       "</div>"
      ],
      "text/plain": [
       "     sepal length (cm)  sepal width (cm)  petal length (cm)  petal width (cm)  \\\n",
       "100                6.3               3.3                6.0               2.5   \n",
       "102                7.1               3.0                5.9               2.1   \n",
       "104                6.5               3.0                5.8               2.2   \n",
       "105                7.6               3.0                6.6               2.1   \n",
       "109                7.2               3.6                6.1               2.5   \n",
       "\n",
       "       species  \n",
       "100  virginica  \n",
       "102  virginica  \n",
       "104  virginica  \n",
       "105  virginica  \n",
       "109  virginica  "
      ]
     },
     "metadata": {},
     "output_type": "display_data"
    }
   ],
   "source": [
    "# Create a boolean condition to find all flowers of the 'setosa' species.\n",
    "# This operation returns a Series of True/False values.\n",
    "is_setosa = df_iris['species'] == 'setosa'\n",
    "print(\"--- Boolean Series for 'setosa' ---\")\n",
    "display(is_setosa.head())\n",
    "\n",
    "# Use this boolean Series to filter the DataFrame.\n",
    "setosa_df = df_iris[is_setosa]\n",
    "print(\"\\n--- DataFrame containing only setosa species ---\")\n",
    "display(setosa_df.head())\n",
    "print(f\"Original DataFrame length: {len(df_iris)}, Filtered DataFrame length: {len(setosa_df)}\")\n",
    "\n",
    "\n",
    "# Conditions can also be combined. Let's find all 'virginica' flowers with a petal width greater than 2.0 cm.\n",
    "# Use '&' for AND, and '|' for OR. Each condition must be in parentheses.\n",
    "virginica_large_petal = (df_iris['species'] == 'virginica') & (df_iris['petal width (cm)'] > 2.0)\n",
    "\n",
    "large_virginica_df = df_iris[virginica_large_petal]\n",
    "print(\"\\n--- DataFrame of virginica with large petals ---\")\n",
    "display(large_virginica_df.head())"
   ]
  },
  {
   "cell_type": "markdown",
   "id": "a33c717a",
   "metadata": {},
   "source": [
    "## NumPy for Numerical Operations\n",
    "\n",
    "NumPy (Numerical Python) is the fundamental package for scientific and numerical computing in Python. Its primary object is the n-dimensional array, which offers significant performance advantages over standard Python lists for mathematical operations due to its implementation in C and contiguous memory storage. Unlike usual Python code, NumPy operations can leverage multiple threads through the C implementation.\n",
    "\n",
    "A NumPy array can be created directly from a DataFrame column."
   ]
  },
  {
   "cell_type": "code",
   "execution_count": null,
   "id": "4d71425b",
   "metadata": {},
   "outputs": [],
   "source": [
    "# Extract the petal lengths as a NumPy array for efficient computation.\n",
    "petal_lengths_array = np.array(df_iris['petal length (cm)'])"
   ]
  },
  {
   "cell_type": "markdown",
   "id": "f382a2f8",
   "metadata": {},
   "source": [
    "NumPy functions can then be applied to these arrays to perform aggregate statistical calculations. The syntax `np.function_name(variable_holding_an_array)` provides a clear and readable approach to these operations.\n"
   ]
  },
  {
   "cell_type": "code",
   "execution_count": null,
   "id": "3607ade3",
   "metadata": {},
   "outputs": [],
   "source": [
    "# Calculate the sum of all petal lengths\n",
    "total_petal_length = np.sum(petal_lengths_array)\n",
    "print(f\"Sum of all petal lengths: {total_petal_length:.2f} cm\")\n",
    "\n",
    "# Calculate the average (mean) petal length\n",
    "mean_petal_length = np.mean(petal_lengths_array)\n",
    "print(f\"Average petal length: {mean_petal_length:.2f} cm\")\n",
    "\n",
    "# Find the maximum petal length\n",
    "max_petal_length = np.max(petal_lengths_array)\n",
    "print(f\"Maximum petal length: {max_petal_length:.2f} cm\")\n",
    "\n",
    "# Find the minimum petal length\n",
    "min_petal_length = np.min(petal_lengths_array)\n",
    "print(f\"Minimum petal length: {min_petal_length:.2f} cm\")\n",
    "\n",
    "# Calculate the standard deviation, a measure of the amount of variation or dispersion of the data values.\n",
    "std_dev_petal_length = np.std(petal_lengths_array)\n",
    "print(f\"Standard deviation of petal length: {std_dev_petal_length:.2f} cm\")"
   ]
  },
  {
   "cell_type": "markdown",
   "id": "5e03ada5",
   "metadata": {},
   "source": [
    "## Seaborn for Data Visualization\n",
    "\n",
    "Data visualization is crucial for exploratory data analysis, as it can reveal patterns, trends, and anomalies that are not apparent from summary statistics alone.\n",
    "\n",
    "Seaborn is a high-level data visualization library based on matplotlib that provides a declarative interface for creating informative and aesthetically pleasing statistical graphics."
   ]
  },
  {
   "cell_type": "markdown",
   "id": "1407f6d1",
   "metadata": {},
   "source": [
    "### Creating a Scatter Plot\n",
    "\n",
    "A scatter plot is a visualization used to examine the relationship or correlation between two continuous numerical variables. In this example, the hue parameter is utilized to encode a third, categorical variable—the flower species—using color. This allows for the simultaneous investigation of relationships both within and between groups."
   ]
  },
  {
   "cell_type": "markdown",
   "id": "835dff7e",
   "metadata": {},
   "source": [
    "### Creating a Box Plot\n",
    "A box plot offers a standardized method for displaying the distribution of a numerical variable across different categories. It visualizes the five-number summary: the box represents the interquartile range (IQR, from the 25th to 75th percentile), the line inside the box marks the median (50th percentile), and the \"whiskers\" typically extend to show the range of the data, excluding outliers.\n"
   ]
  },
  {
   "cell_type": "code",
   "execution_count": 42,
   "id": "4e7138bc",
   "metadata": {},
   "outputs": [
    {
     "data": {
      "image/png": "[encoded data removed]",
      "text/plain": [
       "<Figure size 1600x700 with 2 Axes>"
      ]
     },
     "metadata": {},
     "output_type": "display_data"
    }
   ],
   "source": [
    "# Set a professional and clean style for the plots.\n",
    "sns.set_style(\"whitegrid\")\n",
    "\n",
    "# Create a figure and a set of subplots. \n",
    "# plt.subplots(1, 2, ...) creates a figure with 1 row and 2 columns of subplots.\n",
    "# The `figsize` argument controls the overall dimensions of the figure.\n",
    "fig, axes = plt.subplots(1, 2, figsize=(16, 7))\n",
    "\n",
    "# Add a main title for the entire figure for overall context.\n",
    "fig.suptitle('Visual Analysis of the Iris Dataset', fontsize=16)\n",
    "\n",
    "# --- First Subplot: Scatter Plot ---\n",
    "# Create the scatter plot on the first axis (axes[0]).\n",
    "# The `ax` parameter tells seaborn where to draw the plot.\n",
    "sns.scatterplot(data=df_iris, x='sepal length (cm)', y='sepal width (cm)', hue='species', ax=axes[0])\n",
    "axes[0].set_title('Relationship between Sepal Length and Width')\n",
    "\n",
    "# --- Second Subplot: Box Plot ---\n",
    "# Create the box plot on the second axis (axes[1]).\n",
    "sns.boxplot(data=df_iris, x='species', y='petal width (cm)', ax=axes[1])\n",
    "axes[1].set_title('Distribution of Petal Width by Species')\n",
    "\n",
    "# Use plt.tight_layout() to automatically adjust subplot params so that subplots are nicely fit in the figure.\n",
    "plt.tight_layout(rect=[0, 0.03, 1, 0.95]) # Adjust rect to make space for the suptitle\n",
    "\n",
    "# Render the final figure with both plots.\n",
    "plt.show()"
   ]
  },
  {
   "cell_type": "markdown",
   "id": "94fbde71",
   "metadata": {},
   "source": [
    "The resulting visualization indicates a clear and significant distinction in the petal width distribution of the \"setosa\" species when compared to the \"versicolor\" and \"virginica\" species. This type of insight, readily attainable through effective data visualization, is foundational to hypothesis generation and statistical modeling."
   ]
  }
 ],
 "metadata": {
  "kernelspec": {
   "display_name": "session2",
   "language": "python",
   "name": "python3"
  },
  "language_info": {
   "codemirror_mode": {
    "name": "ipython",
    "version": 3
   },
   "file_extension": ".py",
   "mimetype": "text/x-python",
   "name": "python",
   "nbconvert_exporter": "python",
   "pygments_lexer": "ipython3",
   "version": "3.13.3"
  }
 },
 "nbformat": 4,
 "nbformat_minor": 5
}
